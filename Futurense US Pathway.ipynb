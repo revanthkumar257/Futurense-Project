{
 "cells": [
  {
   "cell_type": "code",
   "execution_count": 25,
   "id": "5c0657aa",
   "metadata": {},
   "outputs": [],
   "source": [
    "import pandas as pd\n",
    "\n",
    "a1 = (r\"C:\\Users\\DELL\\OneDrive\\Desktop\\futurense project\\US Pathway Complete Data.xlsx\")\n",
    "ls = pd.ExcelFile(a1)\n",
    "\n",
    "campaign_performance_df = pd.read_excel(a1, sheet_name='campaign_performance')"
   ]
  },
  {
   "cell_type": "code",
   "execution_count": 15,
   "id": "709ed473",
   "metadata": {},
   "outputs": [],
   "source": [
    "revenue_per_lead = 464.96 # ( total amount_spent / total leads ) in the data set this will be the amount that had spent for one lead \n",
    "campaign_performance_df['ROI'] = (campaign_performance_df['clicks'] / campaign_performance_df['impressions']) * 100\n",
    "campaign_performance_df['profit'] = (campaign_performance_df['leads'] * revenue_per_lead) - campaign_performance_df['total_spent']\n"
   ]
  },
  {
   "cell_type": "markdown",
   "id": "600d08da",
   "metadata": {},
   "source": [
    "# Campaign with highest amount spent"
   ]
  },
  {
   "cell_type": "code",
   "execution_count": 21,
   "id": "12db72ea",
   "metadata": {},
   "outputs": [
    {
     "name": "stdout",
     "output_type": "stream",
     "text": [
      "{'Campaign Name': 'USP_Search_APTNTSKA_250124', 'Total Spent': 27125.36, 'Leads': 3.0, 'ROI': 4.524284763805722, 'Profit': -25730.48}\n"
     ]
    }
   ],
   "source": [
    "max_spent_campaign = campaign_performance_df.loc[campaign_performance_df['total_spent'].idxmax()]\n",
    "\n",
    "max_spent_summary = {\n",
    "    'Campaign Name': max_spent_campaign['campaign_name'],\n",
    "    'Total Spent': max_spent_campaign['total_spent'],\n",
    "     'Leads' : max_spent_campaign['leads'],\n",
    "    'ROI': max_spent_campaign['ROI'],\n",
    "    'Profit': max_spent_campaign['profit']\n",
    "   \n",
    "}\n",
    "\n",
    "print(max_spent_summary)"
   ]
  },
  {
   "cell_type": "markdown",
   "id": "478ba94b",
   "metadata": {},
   "source": [
    "# adset with the highest total spent\n"
   ]
  },
  {
   "cell_type": "code",
   "execution_count": 26,
   "id": "b89533be",
   "metadata": {},
   "outputs": [
    {
     "name": "stdout",
     "output_type": "stream",
     "text": [
      "adset_name            GMAT/GRE\n",
      "total_spent           811776.4\n",
      "total_impressions       225796\n",
      "total_clicks             20610\n",
      "total_leads             1162.0\n",
      "ROI                   9.127708\n",
      "profit              -271492.88\n",
      "Name: 33, dtype: object\n"
     ]
    }
   ],
   "source": [
    "adset_analysis = campaign_performance_df.groupby('adset_name').agg(\n",
    "    total_spent=('total_spent', 'sum'),\n",
    "    total_impressions=('impressions', 'sum'),\n",
    "    total_clicks=('clicks', 'sum'),\n",
    "    total_leads=('leads', 'sum')\n",
    ").reset_index()\n",
    "\n",
    "adset_analysis['ROI'] = (adset_analysis['total_clicks'] / adset_analysis['total_impressions']) * 100\n",
    "adset_analysis['profit'] = (adset_analysis['total_leads'] * revenue_per_lead) - adset_analysis['total_spent']\n",
    "max_spent_adset = adset_analysis.loc[adset_analysis['total_spent'].idxmax()]\n",
    "print(max_spent_adset)"
   ]
  },
  {
   "cell_type": "markdown",
   "id": "ded47c05",
   "metadata": {},
   "source": [
    "# platform with the highest total spent\n"
   ]
  },
  {
   "cell_type": "code",
   "execution_count": 19,
   "id": "d2e85876",
   "metadata": {},
   "outputs": [
    {
     "name": "stdout",
     "output_type": "stream",
     "text": [
      "platform               Facebook\n",
      "total_spent          8970978.34\n",
      "total_impressions      43202021\n",
      "total_clicks             270165\n",
      "total_leads             27537.0\n",
      "ROI                    0.625353\n",
      "profit               3832625.18\n",
      "Name: 0, dtype: object\n"
     ]
    }
   ],
   "source": [
    "platform_analysis = campaign_performance_df.groupby('platform').agg(\n",
    "    total_spent=('total_spent', 'sum'),\n",
    "    total_impressions=('impressions', 'sum'),\n",
    "    total_clicks=('clicks', 'sum'),\n",
    "    total_leads=('leads', 'sum')\n",
    ").reset_index()\n",
    "\n",
    "platform_analysis['ROI'] = (platform_analysis['total_clicks'] / platform_analysis['total_impressions']) * 100\n",
    "platform_analysis['profit'] = (platform_analysis['total_leads'] * revenue_per_lead) - platform_analysis['total_spent']\n",
    "max_spent_platform = platform_analysis.loc[platform_analysis['total_spent'].idxmax()]\n",
    "print(max_spent_platform)"
   ]
  },
  {
   "cell_type": "markdown",
   "id": "41cd1cdf",
   "metadata": {},
   "source": [
    "# adset"
   ]
  },
  {
   "cell_type": "code",
   "execution_count": 13,
   "id": "eb086266",
   "metadata": {},
   "outputs": [
    {
     "name": "stdout",
     "output_type": "stream",
     "text": [
      "Enter the adset name: YT_Channels_URL_targeting\n",
      "Adset Name: YT_Channels_URL_targeting\n",
      "Platforms: Google\n",
      "Total Clicks: 14453.0\n",
      "Total Impressions: 657250.0\n",
      "Total Leads: 271.33\n",
      "Total Spent: 78256.11\n",
      "Average ROI: 2.56%\n",
      "Total Profit: 47901.49\n"
     ]
    }
   ],
   "source": [
    "def get_adset_details(adset_name):\n",
    "    adset_details = campaign_performance_df[campaign_performance_df['adset_name'] == adset_name]\n",
    "    \n",
    "    if adset_details.empty:\n",
    "        return f\"no data found for adset name: {adset_name}\"\n",
    "    \n",
    "    summary = adset_details.agg({\n",
    "        'clicks': 'sum',\n",
    "        'impressions': 'sum',\n",
    "        'leads': 'sum',\n",
    "        'total_spent': 'sum',\n",
    "        'ROI': 'mean', \n",
    "        'profit': 'sum'\n",
    "    }).to_dict()\n",
    "    \n",
    "    summary['adset_name'] = adset_name\n",
    "    summary['platform'] = ', '.join(adset_details['platform'].unique())  \n",
    "    return summary\n",
    "\n",
    "adset_name_input = input(\"Enter the adset name: \")\n",
    "adset_summary = get_adset_details(adset_name_input)\n",
    "\n",
    "if isinstance(adset_summary, str):\n",
    "    print(adset_summary)\n",
    "else:\n",
    "    print(f\"Adset Name: {adset_summary['adset_name']}\")\n",
    "    print(f\"Platforms: {adset_summary['platform']}\")\n",
    "    print(f\"Total Clicks: {adset_summary['clicks']}\")\n",
    "    print(f\"Total Impressions: {adset_summary['impressions']}\")\n",
    "    print(f\"Total Leads: {adset_summary['leads']}\")\n",
    "    print(f\"Total Spent: {adset_summary['total_spent']:.2f}\")\n",
    "    print(f\"Average ROI: {adset_summary['ROI']:.2f}%\")\n",
    "    print(f\"Total Profit: {adset_summary['profit']:.2f}\")\n"
   ]
  },
  {
   "cell_type": "code",
   "execution_count": 34,
   "id": "fe0a363d",
   "metadata": {},
   "outputs": [
    {
     "name": "stdout",
     "output_type": "stream",
     "text": [
      "{'Campaign with Highest ROI': {'Campaign Name': 'USP_Video_More_Volume_No Logic_India_New Link', 'Total Spent': 3.48, 'ROI': 200.0, 'Profit': 461.47999999999996}, 'Campaign with Highest Profit': {'Campaign Name': 'USP_MS + Coop Campaign_240224', 'Total Spent': 23219.6, 'ROI': 0.6700836029071966, 'Profit': 47919.27999999999}}\n"
     ]
    }
   ],
   "source": [
    "max_roi_campaign = campaign_performance_df.loc[campaign_performance_df['ROI'].idxmax()]\n",
    "max_profit_campaign = campaign_performance_df.loc[campaign_performance_df['profit'].idxmax()]\n",
    "\n",
    "insights = {\n",
    "    \n",
    "    'Campaign with Highest ROI': {\n",
    "        'Campaign Name': max_roi_campaign['campaign_name'],\n",
    "        'Total Spent': max_roi_campaign['total_spent'],\n",
    "        'ROI': max_roi_campaign['ROI'],\n",
    "        'Profit': max_roi_campaign['profit']\n",
    "    },\n",
    "    'Campaign with Highest Profit': {\n",
    "        'Campaign Name': max_profit_campaign['campaign_name'],\n",
    "        'Total Spent': max_profit_campaign['total_spent'],\n",
    "        'ROI': max_profit_campaign['ROI'],\n",
    "        'Profit': max_profit_campaign['profit']\n",
    "    },\n",
    "    \n",
    "}\n",
    "\n",
    "print (insights)\n"
   ]
  },
  {
   "cell_type": "code",
   "execution_count": null,
   "id": "ff524a91",
   "metadata": {},
   "outputs": [],
   "source": []
  }
 ],
 "metadata": {
  "kernelspec": {
   "display_name": "Python 3 (ipykernel)",
   "language": "python",
   "name": "python3"
  },
  "language_info": {
   "codemirror_mode": {
    "name": "ipython",
    "version": 3
   },
   "file_extension": ".py",
   "mimetype": "text/x-python",
   "name": "python",
   "nbconvert_exporter": "python",
   "pygments_lexer": "ipython3",
   "version": "3.9.12"
  }
 },
 "nbformat": 4,
 "nbformat_minor": 5
}
